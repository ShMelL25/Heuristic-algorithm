{
 "cells": [
  {
   "cell_type": "code",
   "execution_count": 1,
   "metadata": {},
   "outputs": [],
   "source": [
    "import numpy as np\n",
    "from FSS.fss_algorithm import FishSchoolSearch\n",
    "import torch"
   ]
  },
  {
   "cell_type": "code",
   "execution_count": 5,
   "metadata": {},
   "outputs": [
    {
     "data": {
      "application/vnd.jupyter.widget-view+json": {
       "model_id": "5966ba442d8841bda2f2e012c8bec679",
       "version_major": 2,
       "version_minor": 0
      },
      "text/plain": [
       "  0%|          | 0/500 [00:00<?, ?it/s]"
      ]
     },
     "metadata": {},
     "output_type": "display_data"
    },
    {
     "name": "stdout",
     "output_type": "stream",
     "text": [
      "Best solution: [468.02155 423.0324  460.42682]\n",
      "Best fitness: -1383.5166015625\n"
     ]
    }
   ],
   "source": [
    "def egg_holder(x: torch.Tensor) -> torch.Tensor:\n",
    "    \"\"\"Egg Holder function implementation for PyTorch\"\"\"\n",
    "    x1, x2, x3 = x[0], x[1], x[2]\n",
    "    term1 = -(x2 + 47) * torch.sin(torch.sqrt(torch.abs(x2 + x1/2 + 47)))\n",
    "    term2 = -x1 * torch.sin(torch.sqrt(torch.abs(x1 - (x2 + 47))))\n",
    "    term3 = -x3 * torch.sin(torch.sqrt(torch.abs(x3 + x2/2 + 47)))\n",
    "    return term1 + term2 + term3\n",
    "\n",
    "# Run optimization\n",
    "search_space = [(-512, 512), (-512, 512), (-512, 512)]\n",
    "fss = FishSchoolSearch(device='cuda')  # Will use GPU if available\n",
    "\n",
    "solution, fitness = fss.optimize(\n",
    "    fitness_func=egg_holder,\n",
    "    search_space=search_space,\n",
    "    population_size=10000,\n",
    "    iterations=500,\n",
    "    individual_step=200,\n",
    "    volitive_step=10,\n",
    "    verbose=True\n",
    ")\n",
    "\n",
    "# Convert results to CPU/numpy for output\n",
    "print(f\"Best solution: {solution.cpu().numpy()}\")\n",
    "print(f\"Best fitness: {fitness.cpu().item()}\")"
   ]
  },
  {
   "cell_type": "code",
   "execution_count": null,
   "metadata": {},
   "outputs": [],
   "source": []
  }
 ],
 "metadata": {
  "kernelspec": {
   "display_name": ".venv",
   "language": "python",
   "name": "python3"
  },
  "language_info": {
   "codemirror_mode": {
    "name": "ipython",
    "version": 3
   },
   "file_extension": ".py",
   "mimetype": "text/x-python",
   "name": "python",
   "nbconvert_exporter": "python",
   "pygments_lexer": "ipython3",
   "version": "3.13.3"
  }
 },
 "nbformat": 4,
 "nbformat_minor": 2
}
